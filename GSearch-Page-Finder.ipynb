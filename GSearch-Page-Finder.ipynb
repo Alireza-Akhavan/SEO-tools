{
  "nbformat": 4,
  "nbformat_minor": 0,
  "metadata": {
    "colab": {
      "provenance": []
    },
    "kernelspec": {
      "name": "python3",
      "display_name": "Python 3"
    },
    "language_info": {
      "name": "python"
    }
  },
  "cells": [
    {
      "cell_type": "code",
      "source": [
        "!pip install googlesearch"
      ],
      "metadata": {
        "id": "_ThJWo6eSkMT"
      },
      "execution_count": null,
      "outputs": []
    },
    {
      "cell_type": "code",
      "source": [
        "from googlesearch import search"
      ],
      "metadata": {
        "id": "dHScmhYGSyur"
      },
      "execution_count": 1,
      "outputs": []
    },
    {
      "cell_type": "code",
      "source": [
        "from googlesearch import search\n",
        "\n",
        "def find_page_number(query, url, max_pages=3):\n",
        "    \"\"\"\n",
        "    Find the page number where the given URL appears on Google search results for the given query,\n",
        "    up to a maximum of `max_pages` pages. Returns None if the URL is not found within the first\n",
        "    `max_pages` pages.\n",
        "    \"\"\"\n",
        "    for i in range(max_pages):\n",
        "        page_start = i * 10\n",
        "        for result in search(query, stop=page_start+10, start=page_start, lang='fa'):\n",
        "            if url in result:\n",
        "                return i + 1, result # page numbers start at 1\n",
        "    return None, None\n",
        "\n",
        "\n",
        "base_queries = ['بینایی ماشین',\n",
        "           'بینایی کامپیوتر',\n",
        "           'پردازش تصویر',\n",
        "           'یادگیری عمیق',\n",
        "           'یادگیری ژرف',\n",
        "           'دیپ لرنینگ',\n",
        "           'یادگیری ماشین',\n",
        "           'پایتون',\n",
        "           'هوش مصنوعی',\n",
        "           'هوش مصنوعی با پایتون',\n",
        "           'تنسرفلو',\n",
        "           'تنسورفلو',\n",
        "           'کراس',\n",
        "           'chatgpt',\n",
        "           'tensorflow',\n",
        "           'keras',\n",
        "           'computer vision',\n",
        "           ]\n",
        "pre_queries = [\"\", \"آموزش \",\"دوره \",\"دوره ی آموزشی \"]\n",
        "\n",
        "\n",
        "not_indexed = []\n",
        "for base_query in base_queries:\n",
        "  for pre_query in pre_queries:\n",
        "    query = pre_query + base_query\n",
        "    page_number, url = find_page_number(query, 'class.vision')\n",
        "    if page_number is not None:\n",
        "        print(f\"The website appears on page {page_number} of Google search results for '{query}' : {url}\")\n",
        "    else:\n",
        "      not_indexed.append(query)\n",
        "\n",
        "print(f\"you should work on these keywords: {not_indexed}\")"
      ],
      "metadata": {
        "colab": {
          "base_uri": "https://localhost:8080/"
        },
        "id": "yOLYcLBpVd2I",
        "outputId": "b7c19076-a209-4525-fa14-afdaed30e598"
      },
      "execution_count": 4,
      "outputs": [
        {
          "output_type": "stream",
          "name": "stdout",
          "text": [
            "The website appears on page 3 of Google search results for 'بینایی ماشین' : https://class.vision/blog/%D8%AA%D9%81%D8%A7%D9%88%D8%AA-%D8%A8%DB%8C%D9%86%D8%A7%DB%8C%DB%8C-%DA%A9%D8%A7%D9%85%D9%BE%DB%8C%D9%88%D8%AA%D8%B1-%D8%A8%DB%8C%D9%86%D8%A7%DB%8C%DB%8C-%D9%85%D8%A7%D8%B4%DB%8C%D9%86/\n",
            "The website appears on page 1 of Google search results for 'آموزش بینایی ماشین' : https://class.vision/product/opencv/\n",
            "The website appears on page 2 of Google search results for 'دوره بینایی ماشین' : https://class.vision/product/opencv/\n",
            "The website appears on page 1 of Google search results for 'دوره ی آموزشی بینایی ماشین' : https://class.vision/product/opencv/\n",
            "The website appears on page 2 of Google search results for 'بینایی کامپیوتر' : https://class.vision/blog/computer-vision/\n",
            "The website appears on page 1 of Google search results for 'آموزش بینایی کامپیوتر' : https://class.vision/product/opencv/\n",
            "The website appears on page 1 of Google search results for 'دوره بینایی کامپیوتر' : https://class.vision/product/opencv/\n",
            "The website appears on page 1 of Google search results for 'دوره ی آموزشی بینایی کامپیوتر' : https://class.vision/product/opencv/\n",
            "The website appears on page 3 of Google search results for 'پردازش تصویر' : https://class.vision/blog/%D9%BE%D8%B1%D8%AF%D8%A7%D8%B2%D8%B4-%D8%AA%D8%B5%D9%88%DB%8C%D8%B1-%D8%AF%DB%8C%D8%AC%DB%8C%D8%AA%D8%A7%D9%84-%DA%86%DB%8C%D8%B3%D8%AA%D8%9F/\n",
            "The website appears on page 2 of Google search results for 'آموزش پردازش تصویر' : https://class.vision/product/opencv/\n",
            "The website appears on page 2 of Google search results for 'دوره پردازش تصویر' : https://class.vision/product/opencv/\n",
            "The website appears on page 1 of Google search results for 'دوره ی آموزشی پردازش تصویر' : https://class.vision/product/opencv/\n",
            "The website appears on page 2 of Google search results for 'آموزش یادگیری عمیق' : https://class.vision/product/%D8%AF%D9%88%D8%B1%D9%87-%D8%A2%D9%85%D9%88%D8%B2%D8%B4%DB%8C-%D9%85%D9%82%D8%AF%D9%85%D8%A7%D8%AA%DB%8C-%D8%B4%D8%A8%DA%A9%D9%87-%D9%87%D8%A7%DB%8C-%D8%B9%D8%B5%D8%A8%DB%8C-%D8%B9%D9%85%DB%8C%D9%82-%D8%AF%D8%B1-tensorflow-keras/\n",
            "The website appears on page 1 of Google search results for 'دوره یادگیری عمیق' : https://class.vision/product/%D8%AF%D9%88%D8%B1%D9%87-%D8%A2%D9%85%D9%88%D8%B2%D8%B4%DB%8C-%D9%85%D9%82%D8%AF%D9%85%D8%A7%D8%AA%DB%8C-%D8%B4%D8%A8%DA%A9%D9%87-%D9%87%D8%A7%DB%8C-%D8%B9%D8%B5%D8%A8%DB%8C-%D8%B9%D9%85%DB%8C%D9%82-%D8%AF%D8%B1-tensorflow-keras/\n",
            "The website appears on page 1 of Google search results for 'دوره ی آموزشی یادگیری عمیق' : https://class.vision/product/%D8%AF%D9%88%D8%B1%D9%87-%D8%A2%D9%85%D9%88%D8%B2%D8%B4%DB%8C-%D9%85%D9%82%D8%AF%D9%85%D8%A7%D8%AA%DB%8C-%D8%B4%D8%A8%DA%A9%D9%87-%D9%87%D8%A7%DB%8C-%D8%B9%D8%B5%D8%A8%DB%8C-%D8%B9%D9%85%DB%8C%D9%82-%D8%AF%D8%B1-tensorflow-keras/\n",
            "The website appears on page 3 of Google search results for 'آموزش یادگیری ژرف' : https://fall97.class.vision/\n",
            "The website appears on page 2 of Google search results for 'دوره یادگیری ژرف' : https://class.vision/deeplearning-learning-path/\n",
            "The website appears on page 1 of Google search results for 'دوره ی آموزشی یادگیری ژرف' : https://class.vision/deeplearning-learning-path/\n",
            "The website appears on page 2 of Google search results for 'آموزش دیپ لرنینگ' : https://class.vision/product/%D8%AF%D9%88%D8%B1%D9%87-%D8%A2%D9%85%D9%88%D8%B2%D8%B4%DB%8C-%D9%85%D9%82%D8%AF%D9%85%D8%A7%D8%AA%DB%8C-%D8%B4%D8%A8%DA%A9%D9%87-%D9%87%D8%A7%DB%8C-%D8%B9%D8%B5%D8%A8%DB%8C-%D8%B9%D9%85%DB%8C%D9%82-%D8%AF%D8%B1-tensorflow-keras/\n",
            "The website appears on page 1 of Google search results for 'دوره دیپ لرنینگ' : https://class.vision/product/%D8%AF%D9%88%D8%B1%D9%87-%D8%A2%D9%85%D9%88%D8%B2%D8%B4%DB%8C-%D9%85%D9%82%D8%AF%D9%85%D8%A7%D8%AA%DB%8C-%D8%B4%D8%A8%DA%A9%D9%87-%D9%87%D8%A7%DB%8C-%D8%B9%D8%B5%D8%A8%DB%8C-%D8%B9%D9%85%DB%8C%D9%82-%D8%AF%D8%B1-tensorflow-keras/\n",
            "The website appears on page 1 of Google search results for 'دوره ی آموزشی دیپ لرنینگ' : https://class.vision/product/%D8%AF%D9%88%D8%B1%D9%87-%D8%A2%D9%85%D9%88%D8%B2%D8%B4%DB%8C-%D9%85%D9%82%D8%AF%D9%85%D8%A7%D8%AA%DB%8C-%D8%B4%D8%A8%DA%A9%D9%87-%D9%87%D8%A7%DB%8C-%D8%B9%D8%B5%D8%A8%DB%8C-%D8%B9%D9%85%DB%8C%D9%82-%D8%AF%D8%B1-tensorflow-keras/\n",
            "The website appears on page 2 of Google search results for 'دوره ی آموزشی یادگیری ماشین' : https://class.vision/product/intro-to-ai-ml-deep/\n",
            "The website appears on page 3 of Google search results for 'پایتون' : https://class.vision/product/%D8%A2%D9%85%D9%88%D8%B2%D8%B4_%D9%BE%D8%A7%DB%8C%D8%AA%D9%88%D9%86_%D8%A8%D8%B1%D8%A7%DB%8C_%D9%87%D9%88%D8%B4_%D9%85%D8%B5%D9%86%D9%88%D8%B9%DB%8C/\n",
            "The website appears on page 3 of Google search results for 'آموزش هوش مصنوعی' : https://class.vision/product/%D8%A2%D9%85%D9%88%D8%B2%D8%B4_%D9%BE%D8%A7%DB%8C%D8%AA%D9%88%D9%86_%D8%A8%D8%B1%D8%A7%DB%8C_%D9%87%D9%88%D8%B4_%D9%85%D8%B5%D9%86%D9%88%D8%B9%DB%8C/\n",
            "The website appears on page 2 of Google search results for 'دوره هوش مصنوعی' : https://class.vision/product/intro-to-ai-ml-deep/\n",
            "The website appears on page 2 of Google search results for 'دوره ی آموزشی هوش مصنوعی' : https://class.vision/product/intro-to-ai-ml-deep/\n",
            "The website appears on page 2 of Google search results for 'هوش مصنوعی با پایتون' : https://class.vision/product/%D8%A2%D9%85%D9%88%D8%B2%D8%B4_%D9%BE%D8%A7%DB%8C%D8%AA%D9%88%D9%86_%D8%A8%D8%B1%D8%A7%DB%8C_%D9%87%D9%88%D8%B4_%D9%85%D8%B5%D9%86%D9%88%D8%B9%DB%8C/\n",
            "The website appears on page 1 of Google search results for 'دوره هوش مصنوعی با پایتون' : https://class.vision/product/%D8%A2%D9%85%D9%88%D8%B2%D8%B4_%D9%BE%D8%A7%DB%8C%D8%AA%D9%88%D9%86_%D8%A8%D8%B1%D8%A7%DB%8C_%D9%87%D9%88%D8%B4_%D9%85%D8%B5%D9%86%D9%88%D8%B9%DB%8C/\n",
            "The website appears on page 1 of Google search results for 'دوره ی آموزشی هوش مصنوعی با پایتون' : https://class.vision/product/%D8%A2%D9%85%D9%88%D8%B2%D8%B4_%D9%BE%D8%A7%DB%8C%D8%AA%D9%88%D9%86_%D8%A8%D8%B1%D8%A7%DB%8C_%D9%87%D9%88%D8%B4_%D9%85%D8%B5%D9%86%D9%88%D8%B9%DB%8C/\n",
            "The website appears on page 3 of Google search results for 'تنسورفلو' : https://blog.class.vision/1397/09/intro-to-tensorflow/\n",
            "The website appears on page 2 of Google search results for 'آموزش تنسورفلو' : https://blog.class.vision/1397/09/intro-to-tensorflow/\n",
            "The website appears on page 2 of Google search results for 'دوره ی آموزشی تنسورفلو' : https://class.vision/blog/%D9%85%D8%AC%D9%85%D9%88%D8%B9%D9%87-%D8%AA%D8%AE%D8%B5%D8%B5%DB%8C-%DB%8C%D8%A7%D8%AF%DA%AF%DB%8C%D8%B1%DB%8C-%D8%B9%D9%85%DB%8C%D9%82-andrew-ng-%DA%A9%D9%88%D8%B1%D8%B3%D8%B1%D8%A7/\n",
            "The website appears on page 1 of Google search results for 'دوره ی آموزشی کراس' : https://class.vision/product/%D8%AF%D9%88%D8%B1%D9%87-%D8%A2%D9%86%D9%84%D8%A7%DB%8C%D9%86-%DB%8C%D8%A7%D8%AF%DA%AF%DB%8C%D8%B1%DB%8C-%D8%B9%D9%85%DB%8C%D9%82-%D9%88-%D8%A8%DB%8C%D9%86%D8%A7%DB%8C%DB%8C-%DA%A9%D8%A7%D9%85%D9%BE%DB%8C%D9%88%D8%AA%D8%B1-%D8%A8%D8%A7-%D9%87%D9%85%DA%A9%D8%A7%D8%B1%DB%8C-%D8%AF%DB%8C%D8%AC%DB%8C%D9%86%DA%A9%D8%B3%D8%AA/\n",
            "The website appears on page 1 of Google search results for 'دوره chatgpt' : https://class.vision/product/%D8%A2%D9%85%D9%88%D8%B2%D8%B4-%D8%B1%D8%A7%DB%8C%DA%AF%D8%A7%D9%86-chatgpt/\n",
            "The website appears on page 2 of Google search results for 'دوره ی آموزشی chatgpt' : https://class.vision/product/prompt-chatgpt-api-openai-developer/\n",
            "The website appears on page 2 of Google search results for 'آموزش tensorflow' : https://class.vision/product/%D8%AF%D9%88%D8%B1%D9%87-%D8%A2%D9%85%D9%88%D8%B2%D8%B4%DB%8C-%D9%85%D9%82%D8%AF%D9%85%D8%A7%D8%AA%DB%8C-%D8%B4%D8%A8%DA%A9%D9%87-%D9%87%D8%A7%DB%8C-%D8%B9%D8%B5%D8%A8%DB%8C-%D8%B9%D9%85%DB%8C%D9%82-%D8%AF%D8%B1-tensorflow-keras/\n",
            "The website appears on page 1 of Google search results for 'دوره tensorflow' : https://class.vision/product/%D8%AF%D9%88%D8%B1%D9%87-%D8%A2%D9%85%D9%88%D8%B2%D8%B4%DB%8C-%D9%85%D9%82%D8%AF%D9%85%D8%A7%D8%AA%DB%8C-%D8%B4%D8%A8%DA%A9%D9%87-%D9%87%D8%A7%DB%8C-%D8%B9%D8%B5%D8%A8%DB%8C-%D8%B9%D9%85%DB%8C%D9%82-%D8%AF%D8%B1-tensorflow-keras/\n",
            "The website appears on page 1 of Google search results for 'دوره ی آموزشی tensorflow' : https://class.vision/product/%D8%AF%D9%88%D8%B1%D9%87-%D8%A2%D9%85%D9%88%D8%B2%D8%B4%DB%8C-%D9%85%D9%82%D8%AF%D9%85%D8%A7%D8%AA%DB%8C-%D8%B4%D8%A8%DA%A9%D9%87-%D9%87%D8%A7%DB%8C-%D8%B9%D8%B5%D8%A8%DB%8C-%D8%B9%D9%85%DB%8C%D9%82-%D8%AF%D8%B1-tensorflow-keras/\n",
            "The website appears on page 2 of Google search results for 'آموزش keras' : https://class.vision/product/%D8%AF%D9%88%D8%B1%D9%87-%D8%A2%D9%85%D9%88%D8%B2%D8%B4%DB%8C-%D9%85%D9%82%D8%AF%D9%85%D8%A7%D8%AA%DB%8C-%D8%B4%D8%A8%DA%A9%D9%87-%D9%87%D8%A7%DB%8C-%D8%B9%D8%B5%D8%A8%DB%8C-%D8%B9%D9%85%DB%8C%D9%82-%D8%AF%D8%B1-tensorflow-keras/\n",
            "The website appears on page 1 of Google search results for 'دوره keras' : https://class.vision/product/%D8%AF%D9%88%D8%B1%D9%87-%D8%A2%D9%85%D9%88%D8%B2%D8%B4%DB%8C-%D9%85%D9%82%D8%AF%D9%85%D8%A7%D8%AA%DB%8C-%D8%B4%D8%A8%DA%A9%D9%87-%D9%87%D8%A7%DB%8C-%D8%B9%D8%B5%D8%A8%DB%8C-%D8%B9%D9%85%DB%8C%D9%82-%D8%AF%D8%B1-tensorflow-keras/\n",
            "The website appears on page 1 of Google search results for 'دوره ی آموزشی keras' : https://class.vision/product/%D8%AF%D9%88%D8%B1%D9%87-%D8%A2%D9%85%D9%88%D8%B2%D8%B4%DB%8C-%D9%85%D9%82%D8%AF%D9%85%D8%A7%D8%AA%DB%8C-%D8%B4%D8%A8%DA%A9%D9%87-%D9%87%D8%A7%DB%8C-%D8%B9%D8%B5%D8%A8%DB%8C-%D8%B9%D9%85%DB%8C%D9%82-%D8%AF%D8%B1-tensorflow-keras/\n",
            "The website appears on page 2 of Google search results for 'آموزش computer vision' : https://class.vision/\n",
            "The website appears on page 1 of Google search results for 'دوره computer vision' : https://class.vision/\n",
            "The website appears on page 1 of Google search results for 'دوره ی آموزشی computer vision' : https://class.vision/\n",
            "you should work on these keywords: ['یادگیری عمیق', 'یادگیری ژرف', 'دیپ لرنینگ', 'یادگیری ماشین', 'آموزش یادگیری ماشین', 'دوره یادگیری ماشین', 'آموزش پایتون', 'دوره پایتون', 'دوره ی آموزشی پایتون', 'هوش مصنوعی', 'آموزش هوش مصنوعی با پایتون', 'تنسرفلو', 'آموزش تنسرفلو', 'دوره تنسرفلو', 'دوره ی آموزشی تنسرفلو', 'دوره تنسورفلو', 'کراس', 'آموزش کراس', 'دوره کراس', 'chatgpt', 'آموزش chatgpt', 'tensorflow', 'keras', 'computer vision']\n"
          ]
        }
      ]
    },
    {
      "cell_type": "code",
      "source": [],
      "metadata": {
        "id": "mZhRAJQRc9Ya"
      },
      "execution_count": null,
      "outputs": []
    }
  ]
}